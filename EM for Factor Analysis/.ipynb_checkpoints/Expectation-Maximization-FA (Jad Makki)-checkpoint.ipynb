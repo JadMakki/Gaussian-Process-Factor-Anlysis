{
 "cells": [
  {
   "cell_type": "code",
   "execution_count": 35,
   "id": "28b2cdbc",
   "metadata": {},
   "outputs": [],
   "source": [
    "import numpy as np"
   ]
  },
  {
   "cell_type": "code",
   "execution_count": 36,
   "id": "1b876fb4",
   "metadata": {},
   "outputs": [],
   "source": [
    "### Setting Intial Dimensionality\n",
    "p = 3\n",
    "d = 7\n",
    "N = 103"
   ]
  },
  {
   "cell_type": "code",
   "execution_count": 37,
   "id": "8e12ccb4",
   "metadata": {
    "scrolled": true
   },
   "outputs": [],
   "source": [
    "## Initial Values\n",
    "Si = np.diag([1, 2, 3, 4, 5, 6, 7])"
   ]
  },
  {
   "cell_type": "code",
   "execution_count": 38,
   "id": "5b8720c5",
   "metadata": {
    "scrolled": false
   },
   "outputs": [],
   "source": [
    "### Initializing matrices\n",
    "W = np.random.normal(0, 1,(d, p))\n",
    "Z = np.random.normal(0, 1, (N, p))\n",
    "X = (W.dot(Z.T)).T"
   ]
  },
  {
   "cell_type": "markdown",
   "id": "165f7c47",
   "metadata": {},
   "source": [
    "### E-step"
   ]
  },
  {
   "cell_type": "code",
   "execution_count": 39,
   "id": "4eb86543",
   "metadata": {},
   "outputs": [],
   "source": [
    "## E-step\n",
    "def E_step(W, Si, X):\n",
    "    E_zns = []\n",
    "    E_zn_zts = []\n",
    "    x_mu = np.mean(X, axis = 0)\n",
    "    I = np.identity(p)\n",
    "    G = (I + W.T.dot(np.linalg.inv(Si)).dot(W))\n",
    "    for i in range(N):\n",
    "        diff_x = X[i] - x_mu ### dx1\n",
    "        E_zn = (G.dot(W.T).dot(np.linalg.inv(Si))).dot(diff_x) ### px1\n",
    "        E_zn_zt = G + E_zn.dot(E_zn.T) ### pxp\n",
    "        E_zns += [E_zn]\n",
    "        E_zn_zts += [E_zn_zt]\n",
    "    return (E_zns, np.array(E_zn_zts))"
   ]
  },
  {
   "cell_type": "code",
   "execution_count": 40,
   "id": "7f216a54",
   "metadata": {},
   "outputs": [],
   "source": [
    "W_new = W\n",
    "si_new = Si"
   ]
  },
  {
   "cell_type": "markdown",
   "id": "63748bc5",
   "metadata": {},
   "source": [
    "### M-step"
   ]
  },
  {
   "cell_type": "code",
   "execution_count": 41,
   "id": "d673a1fe",
   "metadata": {
    "scrolled": true
   },
   "outputs": [],
   "source": [
    "x_mu = np.mean(X, axis = 0)\n",
    "for iteration in range(1):\n",
    "    E_zns, E_zn_zts = E_step(W_new, si_new, X)\n",
    "    w_val = np.zeros(shape = (d, p))\n",
    "    si_val = np.zeros(shape = (p, d))\n",
    "    for j in range(N):\n",
    "        w_val += (X[j] - x_mu).reshape(-1, 1).dot(E_zns[j].reshape(-1, 1).T)\n",
    "        si_val += (E_zns[j].reshape(-1, 1).dot((X[0] - x_mu).reshape(-1, 1).T))\n",
    "    W_new = w_val.dot(np.linalg.inv(E_zn_zts.sum(axis = 0)))\n",
    "    si_new = np.diag(np.diag(np.cov(X.T) - (1/N) * W_new.dot(si_val)))"
   ]
  },
  {
   "cell_type": "code",
   "execution_count": 42,
   "id": "34f33f2d",
   "metadata": {},
   "outputs": [
    {
     "data": {
      "text/plain": [
       "<matplotlib.collections.PathCollection at 0x11810bbe0>"
      ]
     },
     "execution_count": 42,
     "metadata": {},
     "output_type": "execute_result"
    },
    {
     "data": {
      "image/png": "[encoded data removed]",
      "text/plain": [
       "<Figure size 432x288 with 1 Axes>"
      ]
     },
     "metadata": {
      "needs_background": "light"
     },
     "output_type": "display_data"
    }
   ],
   "source": [
    "import matplotlib.pyplot as plt\n",
    "plt.scatter(np.matrix.flatten(W_new.dot(W_new.T)), np.matrix.flatten(W.dot(W.T)))"
   ]
  }
 ],
 "metadata": {
  "kernelspec": {
   "display_name": "Python 3",
   "language": "python",
   "name": "python3"
  },
  "language_info": {
   "codemirror_mode": {
    "name": "ipython",
    "version": 3
   },
   "file_extension": ".py",
   "mimetype": "text/x-python",
   "name": "python",
   "nbconvert_exporter": "python",
   "pygments_lexer": "ipython3",
   "version": "3.8.8"
  }
 },
 "nbformat": 4,
 "nbformat_minor": 5
}
